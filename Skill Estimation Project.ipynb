{
 "cells": [
  {
   "cell_type": "markdown",
   "metadata": {},
   "source": [
    "# Skill Estimation Project (using pyGM)"
   ]
  },
  {
   "cell_type": "code",
   "execution_count": 43,
   "metadata": {},
   "outputs": [],
   "source": [
    "import pyGM as gm\n",
    "import numpy as np\n",
    "import matplotlib.pyplot as plt\n",
    "import pickle\n",
    "%matplotlib inline  "
   ]
  },
  {
   "cell_type": "markdown",
   "metadata": {},
   "source": [
    "### Games and Outcomes"
   ]
  },
  {
   "cell_type": "code",
   "execution_count": 44,
   "metadata": {},
   "outputs": [
    {
     "name": "stdout",
     "output_type": "stream",
     "text": [
      "{0: 'MC', 1: 'Life', 2: 'sOs', 3: 'Polt', 4: 'TY', 5: 'INnoVation', 6: 'Mvp', 7: 'ByuN', 8: 'MMA', 9: 'PartinG', 10: 'Snute', 11: 'Zest', 12: 'Maru', 13: 'Nerchio', 14: 'TaeJa', 15: 'NesTea', 16: 'Stephano', 17: 'Dark', 18: 'Neeb', 19: 'HerO', 20: 'Leenock', 21: 'Bomber', 22: 'DongRaeGu', 23: 'Stats', 24: 'HyuN', 25: 'Rain', 26: 'Solar', 27: 'Jaedong', 28: 'herO', 29: 'Classic', 30: 'MarineKing', 31: 'Scarlett', 32: 'aLive', 33: 'soO', 34: 'NaNiwa', 35: 'viOLet', 36: 'ShoWTimE', 37: 'MaNa', 38: 'Sen', 39: 'ForGG', 40: 'Dear', 41: 'Soulkey', 42: 'PuMa', 43: 'GuMiho', 44: 'HuK', 45: 'Hydra', 46: 'SpeCial', 47: 'TRUE', 48: 'Jim', 49: 'Elazer', 50: 'jjakji', 51: 'XiGua', 52: 'MacSed', 53: 'Patience', 54: 'StarDust', 55: 'San', 56: 'TooDming', 57: 'VortiX', 58: 'FruitDealer', 59: 'Creator', 60: 'YoDa', 61: 'ByuL', 62: 'ThorZaIN', 63: 'iAsonu', 64: 'Trap', 65: 'Rogue', 66: 'TLO', 67: 'Kelazhur', 68: 'Losira', 69: 'uThermal', 70: 'Symbol', 71: 'Genius', 72: 'Bly', 73: 'Lilbow', 74: 'Bunny', 75: 'Ryung', 76: 'MaSa', 77: 'Squirtle', 78: 'First', 79: 'HasuObs', 80: 'Alicia', 81: 'Harstem', 82: 'PtitDrogo', 83: 'Has', 84: 'DIMAGA', 85: 'Serral', 86: 'Curious', 87: 'Oz', 88: 'RorO', 89: 'Flash', 90: 'Socke', 91: 'Seed', 92: 'Ret', 93: 'Kas', 94: 'Happy', 95: 'LucifroN', 96: 'IdrA', 97: 'Sniper', 98: 'MarineLorD', 99: 'Welmu', 100: 'Grubby', 101: 'Revival', 102: 'SortOf', 103: 'iaguz', 104: 'Heart', 105: 'White-Ra', 106: 'SuperNova', 107: 'HeRoMaRinE', 108: 'KeeN', 109: 'XY', 110: 'Dream', 111: 'FireCake', 112: 'puCK', 113: 'duckdeok', 114: 'Zanster', 115: 'July', 116: 'TargA', 117: 'Cham', 118: 'elfi', 119: 'TOP', 120: 'Dayshi', 121: 'MorroW', 122: 'RainBOw', 123: 'SaSe', 124: 'Cure', 125: 'TheStC', 126: 'Cyan', 127: 'SeleCT', 128: 'SjoW', 129: 'HalfBreed', 130: 'Golden', 131: 'Pigbaby', 132: 'Brat_OK', 133: 'Hurricane', 134: 'mOOnGLaDe', 135: 'JYP', 136: 'Super', 137: 'Top', 138: 'MyuNgSiK', 139: 'NaDa', 140: 'Lyn', 141: 'ViBE', 142: 'InCa', 143: 'FanTaSy', 144: 'DeMusliM', 145: 'Loner', 146: 'YongHwa', 147: 'GanZi', 148: 'JonSnow', 149: 'GoOdy', 150: 'Impact', 151: 'Suppy', 152: 'Bbyong', 153: 'PiG', 154: 'Moon', 155: 'Petraeus', 156: 'GunGFuBanDa', 157: 'RagnaroK', 158: 'ToD', 159: 'Sacsri', 160: 'HongUn', 161: 'Kane', 162: 'BlinG', 163: 'Jinro', 164: 'qxc', 165: 'Zenio', 166: 'sC', 167: 'TAiLS', 168: 'sLivko', 169: 'Strelok', 170: 'Adelscott', 171: 'BabyKnight', 172: 'Reality', 173: 'Naama', 174: 'TitaN', 175: 'Minigun', 176: 'Tefel', 177: 'NightEnD', 178: 'KingKong', 179: 'Namshar', 180: 'PiLiPiLi', 181: 'Ian', 182: 'Swagger', 183: 'TIME', 184: 'Hack', 185: 'Ensnare', 186: 'Trust', 187: 'Arthur', 188: 'Billowy', 189: 'Illusion', 190: 'Xenocider', 191: 'Fenix', 192: 'Lambo', 193: 'monchi', 194: 'BoxeR', 195: 'Sora', 196: 'Probe', 197: 'AcE', 198: 'CranK', 199: 'Jieshi', 200: 'BBoongBBoong', 201: 'EnDerr', 202: 'Sleep', 203: 'Beastyqt', 204: 'CoCa', 205: 'Lucky', 206: 'Bischu', 207: 'Semper', 208: 'DarKFoRcE', 209: 'Bulldozer', 210: 'Clide', 211: 'Seither', 212: 'DnS', 213: 'LoveCD', 214: 'Sage', 215: 'JimRising', 216: 'State', 217: 'YugiOh', 218: 'Sheth', 219: 'Sting', 220: 'Puzzle', 221: 'LiveZerg', 222: 'souL', 223: 'Stork', 224: 'CatZ', 225: 'Starbuck', 226: 'Apocalypse', 227: 'Shana', 228: 'Armani', 229: 'Slam', 230: 'Virus', 231: 'Infi', 232: 'MaFia', 233: 'Feast', 234: 'Daisy', 235: 'Bails', 236: 'TT1', 237: 'ClouD', 238: 'Rex', 239: 'fraer', 240: 'Check', 241: 'XluoS', 242: 'DeParture', 243: 'NAKSEO', 244: 'Ein', 245: 'Choya', 246: 'LoWeLy', 247: 'Tarson', 248: 'Blysk', 249: 'dde', 250: 'Goswser', 251: 'KiWiKaKi', 252: 'TheBest', 253: 'Shine', 254: 'Guru', 255: 'XlorD', 256: 'Courage', 257: 'KrasS', 258: 'HaNfy', 259: 'hendralisk', 260: 'Last', 261: 'Forte', 262: 'LaLuSh', 263: 'DieStar', 264: 'NXZ', 265: 'SuHoSin', 266: 'Maka', 267: 'Nice', 268: 'Rail', 269: 'Hush', 270: 'Ruin', 271: 'Comm', 272: 'Journey', 273: 'Flying', 274: 'inori', 275: 'Astrea', 276: 'AK', 277: 'EffOrt', 278: 'biGs', 279: 'HwangSin', 280: 'SarenS', 281: 'Eiki', 282: 'StarNaN', 283: 'ParalyzE', 284: 'Noblesse', 285: 'hyvaa', 286: 'JonnyREcco', 287: 'HayprO', 288: 'NoRegreT', 289: 'Pet', 290: 'Maker', 291: 'Sound', 292: 'Tarrantius', 293: 'Ziktomini', 294: 'Blaze', 295: 'Miniraser', 296: 'Seiplo', 297: 'Coffee', 298: 'asd', 299: 'Sorry', 300: 'desRow', 301: 'Delphi', 302: 'Terminator', 303: 'ShaDoWn', 304: 'jookTo', 305: 'Revenant', 306: 'Hui', 307: 'JangBi', 308: 'JazBas', 309: 'Avenge', 310: 'SLusH', 311: 'SpeeD', 312: 'cheetos', 313: 'Optimus', 314: 'Winter', 315: 'NonY', 316: 'Jig', 317: 'Punk', 318: 'Tunico', 319: 'F91', 320: 'Satiini', 321: 'DS', 322: 'Tassadar', 323: 'Ball', 324: 'ReaL', 325: 'Shuttle', 326: 'Uhen', 327: 'Bioice', 328: 'DemiLove', 329: 'Hitman', 330: 'DaNa', 331: 'ByRada', 332: 'GAMETIME', 333: 'Ourk', 334: 'Strange', 335: 'Insur', 336: 'Reynor', 337: 'Denver', 338: 'sKyHigh', 339: 'PandaBearMe', 340: 'Nifi', 341: 'Rushcrazy', 342: 'BrAvO', 343: 'MightyKiwi', 344: 'Jarppi', 345: 'Cloudy', 346: 'drewbie', 347: 'Guitarcheese', 348: 'Erik', 349: 'Prebs', 350: 'tgun', 351: 'Ostojiy', 352: 'AureS', 353: 'Yekke', 354: 'Bistork', 355: 'Chick', 356: 'dreamertt', 357: 'theognis', 358: 'PsiOniC', 359: 'MiNiMaTh', 360: 'Fist', 361: 'Capoch', 362: 'LoLvsxD', 363: 'Krr', 364: 'KawaiiRice', 365: 'Snitchables', 366: 'PainUser', 367: 'ZhuGeLiang', 368: 'merz', 369: 'StarEagle', 370: 'Rose', 371: 'iNSoLeNCE', 372: 'Axslav', 373: 'Lillekanin', 374: 'hellokitty', 375: 'daisuki', 376: 'PSiArc', 377: 'Raze', 378: 'Intense', 379: 'Siw', 380: 'Majestic', 381: 'Brown', 382: 'KenZy', 383: 'Turuk', 384: 'sYz', 385: 'RuFF', 386: 'Machine', 387: 'Arium', 388: 'AlaStOr', 389: 'LoveTt', 390: 'Melle', 391: 'Noname', 392: 'ABomB', 393: 'Crazy', 394: 'Min', 395: 'Spear', 396: 'Drunkenboi', 397: 'DmC', 398: 'RedArchon', 399: 'CrunCher', 400: 'FLY', 401: 'PoYo', 402: 'SaroVati', 403: 'Lau', 404: 'Azure', 405: 'Darkness', 406: 'PenguiN', 407: 'Fuzer', 408: 'Orly', 409: 'Clannad', 410: 'Ryu', 411: 'Center', 412: 'RiSky', 413: 'Crimson', 414: 'ReasoN', 415: 'Pokebunny', 416: 'Rossi', 417: 'Evire', 418: 'Eeel', 419: 'Clavie', 420: 'Ziggy', 421: 'eMotion', 422: 'SolO', 423: 'Cezanne', 424: 'AcRo', 425: 'Basior', 426: 'ToXiC', 427: 'uzer', 428: 'Fargo', 429: 'Zeal', 430: 'Silky', 431: 'Light', 432: 'Destiny', 433: 'Artist', 434: 'MeomaikA', 435: 'DdoRo', 436: 'Sioras', 437: 'roof', 438: 'Sonder', 439: 'Ezrc', 440: 'VINES', 441: 'ParanOid', 442: 'Attero', 443: 'iNcontroL', 444: 'EJK', 445: 'Miya', 446: 'KleeneX', 447: 'Revolver', 448: 'NeOAnGeL', 449: 'NucleaR', 450: 'Believe', 451: 'Boombox', 452: 'Luvsic', 453: 'BLord', 454: 'pal', 455: 'Alopex', 456: 'ArT', 457: 'Akki', 458: 'Rine', 459: 'hOpe', 460: 'TomikuS', 461: 'White', 462: 'Pezz', 463: 'Pomi', 464: 'HappyZerG', 465: 'YoGo', 466: 'Tilea', 467: 'mOoNan', 468: 'SaberAltoria', 469: 'Stalife', 470: 'Loup', 471: 'Arctur', 472: 'Cell', 473: 'JoJo', 474: 'Frustration', 475: 'Neytpoh', 476: 'Mystik', 477: 'Dragon', 478: 'RaNgeD', 479: 'Adonminus', 480: 'Smile', 481: 'Quiet', 482: 'Balloon', 483: 'Rake', 484: 'FeaR', 485: 'Vanilla', 486: 'KoMA', 487: 'Hawk', 488: 'kauP', 489: 'Sakya', 490: 'Aristeo', 491: 'Mix', 492: 'Sirius', 493: 'Sparrow', 494: 'Gatored', 495: 'viPro', 496: 'Zycart', 497: 'iNkA', 498: 'MoMaN', 499: 'DreAm', 500: 'PuPu', 501: 'kAra', 502: 'DBS', 503: 'Sjaak', 504: 'AnNyeong', 505: 'Blackcidy', 506: 'Flare', 507: 'ScaM', 508: 'Seal', 509: 'HuT', 510: 'Roll', 511: 'Perfect', 512: 'NaTuRal', 513: 'Protosser', 514: 'inuh', 515: 'ProAnnn', 516: 'Sparta', 517: 'Minato', 518: 'PhoeNix', 519: 'Trace', 520: 'CrazymoviNG', 521: 'JaBiTo', 522: 'Wally', 523: 'JJun', 524: 'Civi', 525: 'Jona', 526: 'SirRobin', 527: 'BreakingGG', 528: 'Abver', 529: 'Yours', 530: 'SLiDeR', 531: 'Peppy', 532: 'HateMe', 533: 'YoonYJ', 534: 'AlexCMoi', 535: 'DakkoN', 536: 'FunK', 537: 'Zeth', 538: 'Apro', 539: 'Bang', 540: 'Creature', 541: 'InZaNe', 542: 'TubbyTheFat', 543: 'Clem', 544: 'TurN', 545: 'Cuddlebear', 546: 'Siphonn', 547: 'Sasquatch', 548: 'SpaceMarine', 549: 'Zazu', 550: 'EdgE', 551: 'Moosegills', 552: 'deth', 553: 'Rodzyn', 554: 'HeltEn', 555: 'Gamja', 556: 'horror', 557: 'StrinterN', 558: 'Gemini', 559: 'ZerO', 560: 'DeathAngel', 561: 'Monty', 562: 'Ready', 563: 'Kyzer', 564: 'Uzikoti', 565: 'Trend', 566: 'PandaTank', 567: 'Elroye', 568: 'Shakti', 569: 'Hunter', 570: 'rsvp', 571: 'Osho', 572: 'starkiller', 573: 'DrakE', 574: 'Nado', 575: 'ReiToR', 576: 'Senin', 577: 'CoolTea', 578: 'SonG', 579: 'ELVIS', 580: 'DarK', 581: 'Pacomike', 582: 'YHY', 583: 'BsK', 584: 'Jason', 585: 'Everize', 586: 'Crane', 587: 'True', 588: 'Cytoplasm', 589: 'DeViL', 590: 'Phog', 591: 'Lobo', 592: 'Ash', 593: 'sLh', 594: 'Scythe', 595: 'CPU', 596: 'DarkHydra', 597: 'Botvinnik', 598: 'Chubz', 599: 'SaltTheWound', 600: 'Vaisravana', 601: 'Action', 602: 'hitmaN', 603: 'NarutO', 604: 'PengWin', 605: 'Shibbxyz', 606: 'Giantt', 607: 'Indy', 608: 'Kalin', 609: 'Fenner', 610: 'MiNiCrow', 611: 'CreamCake', 612: 'MouLou', 613: 'Cladorhiza', 614: 'Storm', 615: 'RunA', 616: 'ValuE', 617: 'StrifeCro', 618: 'Albion', 619: 'Narcotic', 620: 'Mamba', 621: 'Mekar', 622: 'StakimaN', 623: 'MurDeR', 624: 'DyyS', 625: 'rANDY', 626: 'TREME', 627: 'ZKO', 628: 'Sculp', 629: 'Jagelius', 630: 'Ciara', 631: 'Utopi', 632: 'Rotab', 633: 'Aicy', 634: 'Downfall', 635: 'Zervas', 636: 'Evaner', 637: 'Poker', 638: 'Avekatten', 639: 'Honor', 640: 'Spades', 641: 'wiNgiAN', 642: 'Sugar', 643: 'IceCream', 644: 'RainMan', 645: 'Elusory', 646: 'Underdark', 647: 'Mamuri', 648: 'Hellraiser', 649: 'Miso', 650: 'Ignite', 651: 'Voltz', 652: 'Bones', 653: 'sWs', 654: 'Grid', 655: 'JaXx', 656: 'KoNtiNuE', 657: 'MCanning', 658: 'Azz', 659: 'Law', 660: 'NoXOuT', 661: 'PredY', 662: 'Seigifried', 663: 'Satu', 664: 'Naugrim', 665: 'Mentalist', 666: 'Zan', 667: 'Haspe', 668: 'jheffe', 669: 'hinO', 670: 'SLeet', 671: 'Complain', 672: 'FuturE', 673: 'LzGaMeR', 674: 'Kitsune', 675: 'Miszu', 676: 'Origine', 677: 'eGGz', 678: 'xEi', 679: 'Heavens', 680: 'LeeLee', 681: 'UkraineStar', 682: 'Epic', 683: 'Firefly', 684: 'Revolution', 685: 'Forsen', 686: 'Personal', 687: 'Kez', 688: 'Chabby', 689: 'Spectrum', 690: 'Sonic', 691: 'Argo', 692: 'binski', 693: 'Kamker', 694: 'Stallion', 695: 'Myuu', 696: 'Freaky', 697: 'Jimpo', 698: 'MetHiX', 699: 'avilo', 700: 'KnowMe', 701: 'Bubbles', 702: 'danO', 703: 'Jamesykins', 704: 'Vasilisk', 705: 'KiFirE', 706: 'Romson', 707: 'OpTiKzErO', 708: 'borrex', 709: 'Creed', 710: 'Marsman', 711: 'KiToO', 712: 'Tiger', 713: 'Luolis', 714: 'RunaMoK', 715: 'Venus', 716: 'Revenge', 717: 'Glon', 718: 'RayReign', 719: 'TriMaster', 720: 'Mysticism', 721: 'Gerald', 722: 'Matiz', 723: 'TeebuL', 724: 'SeoHyeon', 725: 'VeniVidiVins', 726: 'jeysen', 727: 'Hannibal', 728: 'FuRy', 729: 'Geeden', 730: 'Rize', 731: 'hG', 732: 'Outside', 733: 'Nedi', 734: 'RazerBlader', 735: 'Cube', 736: 'Ryze', 737: 'Exehn', 738: 'Primelot', 739: 'frozz', 740: 'Elbegast', 741: 'TcUltimate', 742: 'GenjiTakiya', 743: 'Bonobo', 744: 'Calt', 745: 'EndOfLine', 746: 'Future', 747: 'ho8ot', 748: 'Laukyo', 749: 'TheoRy', 750: 'WPz', 751: 'WaKa', 752: 'Agh', 753: 'ThisIsJimmy', 754: 'Couguar', 755: 'Pox', 756: 'Rotcod', 757: 'Zelniq', 758: 'Phantom', 759: 'Farmcakes', 760: 'Thorminator', 761: 'ElhayM', 762: 'jEcho', 763: 'MaGiK', 764: 'goblin', 765: 'Malcolm', 766: 'WarreN', 767: 'Multi', 768: 'ArchangeL', 769: 'Harpner', 770: 'MaSsan', 771: 'Schnitzel', 772: 'Hymy', 773: 'Dolan', 774: 'Nathanias', 775: 'Blast', 776: 'Unix', 777: 'StoicWilly', 778: 'POX', 779: 'Rmdx', 780: 'Wilko', 781: 'control', 782: 'Deranging', 783: 'FIGHTO', 784: 'Headhunter', 785: 'Theo', 786: 'Rikytan', 787: 'DeeMo', 788: 'Operator', 789: 'Rengen', 790: 'FireZerg', 791: 'SenSei', 792: 'Exia', 793: 'ChanKiM', 794: 'SteAdfaSt', 795: 'Jade', 796: 'MythiC', 797: 'Bouli', 798: 'velego', 799: 'aGaham', 800: 'Ice', 801: 'XiaRu', 802: 'GamerRichy', 803: 'KroLu', 804: 'MygraiN', 805: 'Snuffe', 806: 'Adrian', 807: 'SoulSpirit', 808: 'STX', 809: 'yang', 810: 'HuShang', 811: 'LuckyFool', 812: 'Vanya', 813: 'Matvey', 814: 'Caliber', 815: 'Nistic', 816: 'Armax', 817: 'DeathMask', 818: 'Early', 819: 'CaVaLieR', 820: 'BlueCheese', 821: 'NeverDie', 822: 'ColdScars', 823: 'DarkCell', 824: 'monsteuh', 825: 'Orion', 826: 'Railgan', 827: 'cHoBo', 828: 'ghasT', 829: 'Jaden', 830: 'Towelie', 831: 'Malice', 832: 'RobbyG', 833: 'Lucifer', 834: 'Chase', 835: 'Shadowbites', 836: 'Druzdil', 837: 'MegaFonzie', 838: 'SKillous', 839: 'CheeseKing', 840: 'Hades', 841: 'Petrify', 842: 'FightingFrog', 843: 'Lightning', 844: 'StriKE', 845: 'PurpleHAzE', 846: 'TANGTANG', 847: 'Arrival', 848: 'Duolonn', 849: 'etidrood', 850: 'Spazymazy', 851: 'SwitchBack', 852: 'Tonho', 853: 'JungleKing', 854: 'MasTeR', 855: 'TheZergLord', 856: 'Titan', 857: 'KensShow', 858: 'Wardi', 859: 'SpellSinger', 860: 'omgabanana', 861: 'Darroweve', 862: 'JayPower', 863: 'SodoN', 864: 'Dane', 865: 'JoCeLyN', 866: 'Spartfire', 867: 'ToM', 868: 'funkay', 869: 'Hjax', 870: 'MorDka', 871: 'Ver', 872: 'NukeLar', 873: 'Ascarecrow', 874: 'Soundwave', 875: 'Fiasco', 876: 'Stormz', 877: 'TrOn', 878: 'Zinho', 879: 'Bonkarooni', 880: 'BuRning', 881: 'GogojOey', 882: 'Gremory', 883: 'NEEK', 884: 'Seala', 885: 'Chobosniper', 886: 'Friend', 887: 'Tesla', 888: 'PainGamer', 889: 'qbeN', 890: 'Fullmetal', 891: 'DominiC', 892: 'giX', 893: 'McMonroe', 894: 'Neige', 895: 'TAGurPRGNANT', 896: 'Virium', 897: 'xKawaiian', 898: 'EON', 899: 'GraVe', 900: 'inNirvana', 901: 'ARze', 902: 'Poizon', 903: 'Easy', 904: 'MperorM', 905: 'Arnovic', 906: 'KingCobra', 907: 'Arkthelegend', 908: 'delete', 909: 'NaMeK', 910: 'RusZerg', 911: 'Relmer', 912: 'CealeR', 913: 'Healer', 914: 'ProzeR', 915: 'Gow', 916: 'Xaoras', 917: 'EGG', 918: 'Elifas', 919: 'PappiJoe', 920: 'yunga', 921: 'Milka', 922: 'AlisoN', 923: 'jumanjii', 924: 'PulSe', 925: 'CalebAracous', 926: 'Gretorp', 927: 'HasHe', 928: 'Shew', 929: 'ZenedoR', 930: 'QuanChi', 931: 'Silvano', 932: 'Kimo', 933: 'Breach', 934: 'Neuro', 935: 'Nomatch', 936: 'SatO', 937: 'maTTzour', 938: 'PsychO', 939: 'Freeman', 940: 'Khyira', 941: 'niceq', 942: 'AqueroN', 943: 'Chelovek', 944: 'LsEbA', 945: 'nukestrike', 946: 'picur', 947: 'Rinka', 948: 'whiteant', 949: 'NeXa', 950: 'ShinO', 951: 'dwar', 952: 'aconcises', 953: 'CharSiuBao', 954: 'Nitix', 955: 'TerrOr', 956: 'CruiseR', 957: 'nExt', 958: 'waCK', 959: 'Pro7ecT', 960: 'Dylayn', 961: 'HolyHit', 962: 'Morpheus', 963: 'Vindicta', 964: 'BluE', 965: 'DisK', 966: 'EnigMa', 967: 'fallenger', 968: 'Garitos', 969: 'Hupsaiya', 970: 'msrm', 971: 'Nefaste', 972: 'Overmind', 973: 'Phoenix', 974: 'SqrtofnegOne', 975: 'Tactyle', 976: 'Voidreaver', 977: 'ZenAku', 978: 'AvaTaR', 979: 'Quent', 980: 'HaPe', 981: 'kel', 982: 'MeCh', 983: 'MystiC', 984: 'Tallahassee', 985: 'Xormentor', 986: 'Fazer', 987: 'Keiras'}\n"
     ]
    }
   ],
   "source": [
    "import csv\n",
    "global players\n",
    "players = 0\n",
    "player_dict = dict()\n",
    "with open('train-57922.csv', newline='') as csv_file: # replace csv file with the training dataset being used\n",
    "    csv_reader = csv.reader(csv_file, delimiter=',')\n",
    "    for row in csv_reader:\n",
    "        if str(row[1]) not in player_dict.values():\n",
    "            player_dict[players] = str(row[1])\n",
    "            players += 1\n",
    "print(player_dict)"
   ]
  },
  {
   "cell_type": "code",
   "execution_count": 45,
   "metadata": {},
   "outputs": [],
   "source": [
    "def get_id(val):\n",
    "    for key, value in player_dict.items():\n",
    "        if val == value:\n",
    "             return key\n",
    "\n",
    "games = []\n",
    "playerInfo = {}\n",
    "with open('train-57922.csv', newline='') as csv_file: # replace csv file with the training dataset being used\n",
    "    csv_reader = csv.reader(csv_file, delimiter=',')\n",
    "    for row in csv_reader:\n",
    "        player1 = get_id(str(row[1]))\n",
    "        player2 = get_id(str(row[4]))\n",
    "        \n",
    "        if player1 in playerInfo.keys():\n",
    "            playerInfo[player1][0] += 1\n",
    "        else:\n",
    "            # player1 is not in keys\n",
    "            playerInfo[player1] = [1,0] # [number of games played, games won]\n",
    "        \n",
    "        if player2 is None:\n",
    "            global players\n",
    "            player_dict[players] = str(row[4])\n",
    "            player2 = players\n",
    "            players += 1\n",
    "        if row[2] == \"[loser]\":\n",
    "            score = -1\n",
    "        else:\n",
    "            score = +1\n",
    "            playerInfo[player1][1] += 1\n",
    "        games.append((player1, player2, score))\n",
    "        \n",
    "for player in playerInfo:\n",
    "    playerInfo[player].append(playerInfo[player][1]/playerInfo[player][0])\n",
    "#print(games) #it works"
   ]
  },
  {
   "cell_type": "markdown",
   "metadata": {},
   "source": [
    "### Code for making shorter training csv files"
   ]
  },
  {
   "cell_type": "markdown",
   "metadata": {},
   "source": [
    "##### Only run this once to create the smaller training dataset csv files"
   ]
  },
  {
   "cell_type": "code",
   "execution_count": 17,
   "metadata": {},
   "outputs": [],
   "source": [
    "username_to_id = dict((v,k) for k,v in player_dict.items())\n",
    "\n",
    "def get_dict_for_CSV(totalRowsLeft: int, debug: bool) -> dict:\n",
    "    playerDivide = {}\n",
    "    otrPlayerInfo = dict(playerInfo)\n",
    "    playersRemaining = set()\n",
    "\n",
    "    for i in range(988):\n",
    "        playersRemaining.add(i)\n",
    "\n",
    "    while len(playersRemaining) > 0 and totalRowsLeft > 0:\n",
    "        divideGames = int(totalRowsLeft / len(playersRemaining))\n",
    "        otrPlayersRemaining = playersRemaining.copy()\n",
    "        \n",
    "        if debug:\n",
    "            print(\"==1== divideGames:\", divideGames)\n",
    "            print(\"==2== totalRowsLeft:\", totalRowsLeft)\n",
    "            print(\"==3== playersRemaining:\", playersRemaining)\n",
    "            print(\">>> otrPlayersRemaining:\", otrPlayersRemaining)\n",
    "            \n",
    "        if divideGames == 0:\n",
    "            for player in otrPlayersRemaining:\n",
    "                if totalRowsLeft > 0:\n",
    "                    playerDivide[player] += 1 \n",
    "                    totalRowsLeft -= 1\n",
    "                else:\n",
    "                    break\n",
    "\n",
    "        for player in otrPlayersRemaining:\n",
    "            if player not in playerDivide.keys():\n",
    "                if otrPlayerInfo[player][0] <= divideGames:\n",
    "                    playerDivide[player] = otrPlayerInfo[player][0]\n",
    "                    playersRemaining.remove(player)\n",
    "                    totalRowsLeft -= otrPlayerInfo[player][0]\n",
    "                    otrPlayerInfo[player][0] = 0\n",
    "                else:\n",
    "                    playerDivide[player] = divideGames\n",
    "                    totalRowsLeft -= divideGames\n",
    "                    otrPlayerInfo[player][0] -= divideGames\n",
    "            else:\n",
    "                if otrPlayerInfo[player][0] <= divideGames:\n",
    "                    playerDivide[player] += otrPlayerInfo[player][0]\n",
    "                    playersRemaining.remove(player)\n",
    "                    totalRowsLeft -= otrPlayerInfo[player][0]\n",
    "                    otrPlayerInfo[player][0] = 0\n",
    "                else:\n",
    "                    playerDivide[player] += divideGames\n",
    "                    totalRowsLeft -= divideGames\n",
    "                    otrPlayerInfo[player][0] -= divideGames\n",
    "                    \n",
    "    return playerDivide\n",
    "\n",
    "def gen_CSV(num_rows: int, debug: bool, old_csv: str, new_csv_name: str) -> None:\n",
    "    \n",
    "    player_divide = dict(get_dict_for_CSV(num_rows, debug))\n",
    "    \n",
    "    with open(old_csv, newline='') as old_csv:\n",
    "        with open(new_csv_name, \"w\") as new_csv:\n",
    "            csv_reader = csv.reader(old_csv, delimiter=',')\n",
    "            for row in csv_reader:\n",
    "                if sum(player_divide.values()) <= 0:\n",
    "                    break\n",
    "                \n",
    "                the_id = username_to_id[str(row[1])]\n",
    "                if player_divide[the_id] > 0:\n",
    "                    new_csv.write(','.join(row))\n",
    "                    new_csv.write('\\n')\n",
    "                    player_divide[the_id] -= 1"
   ]
  },
  {
   "cell_type": "code",
   "execution_count": 6,
   "metadata": {},
   "outputs": [],
   "source": [
    "gen_CSV(173767, False, 'train.csv', 'train-173767.csv')"
   ]
  },
  {
   "cell_type": "code",
   "execution_count": 13,
   "metadata": {},
   "outputs": [],
   "source": [
    "gen_CSV(154459, False, 'train.csv', 'train-154459.csv')"
   ]
  },
  {
   "cell_type": "code",
   "execution_count": 18,
   "metadata": {},
   "outputs": [],
   "source": [
    "gen_CSV(57922 , False, 'train.csv', 'train-57922.csv')"
   ]
  },
  {
   "cell_type": "markdown",
   "metadata": {},
   "source": [
    "### Win probability and graphical model"
   ]
  },
  {
   "cell_type": "code",
   "execution_count": 46,
   "metadata": {},
   "outputs": [],
   "source": [
    "import time\n",
    "start = time.time()"
   ]
  },
  {
   "cell_type": "code",
   "execution_count": 47,
   "metadata": {},
   "outputs": [],
   "source": [
    "nplayers = max( [max(g[0],g[1]) for g in games] )+1\n",
    "nlevels = 10\n",
    "# we will also test scale values: .4, .5, .6\n",
    "scale = .5     # this scales how skill difference translates to win probability\n",
    "\n",
    "X = [None]*nplayers\n",
    "for i in range(nplayers):\n",
    "    X[i] = gm.Var(i, nlevels)   \n",
    "\n",
    "#    Win probability  Pr[win | Xi-Xj]  depends on skill difference of players\n",
    "Pwin = np.zeros( (nlevels,nlevels) )\n",
    "for i in range(nlevels):\n",
    "    for j in range(nlevels):\n",
    "        diff = i-j                   \n",
    "        Pwin[i,j] = (1./(1+np.exp(-scale*diff)))\n",
    "\n",
    "# before any games, uniform belief over skill levels for each player:\n",
    "factors = [ gm.Factor([X[i]],1./nlevels) for i in range(nplayers) ]\n",
    "\n",
    "# Now add the information from each game:\n",
    "for g in games:\n",
    "    P1,P2,win = g[0],g[1],g[2]\n",
    "    if P1 != P2:\n",
    "        if P1>P2: P1,P2,win=P2,P1,-win\n",
    "        inside = gm.Factor([X[P1],X[P2]], Pwin if win>0 else 1-Pwin)\n",
    "        factors.append(inside)"
   ]
  },
  {
   "cell_type": "code",
   "execution_count": 48,
   "metadata": {},
   "outputs": [
    {
     "name": "stdout",
     "output_type": "stream",
     "text": [
      "Finished here\n"
     ]
    }
   ],
   "source": [
    "model = gm.GraphModel(factors)\n",
    "model.makeMinimal()  # merge any duplicate factors (e.g., repeated games)\n",
    "print(\"Finished here\")"
   ]
  },
  {
   "cell_type": "code",
   "execution_count": 49,
   "metadata": {},
   "outputs": [
    {
     "name": "stdout",
     "output_type": "stream",
     "text": [
      "Iter 0: -63002.199845799056\n",
      "Iter 1: -34983.03481564578\n",
      "Iter 2: -34106.28351996313\n",
      "Iter 3: -33913.83113796054\n",
      "Iter 4: -33858.54465952842\n",
      "Iter 5: -33842.453006470685\n",
      "Iter 6: -33836.450993821425\n",
      "Iter 7: -33833.319188731504\n",
      "Iter 8: -33831.39179655556\n",
      "Iter 9: -33830.06941864464\n",
      "Iter 10: -33829.050890138664\n"
     ]
    }
   ],
   "source": [
    "if model.nvar < 0:       \n",
    "    jt = model.joint()\n",
    "    jt /= jt.sum()       \n",
    "    bel = [jt.marginal([i]) for i in range(nplayers)] \n",
    "else:                    \n",
    "    from pyGM.messagepass import LBP, NMF\n",
    "    #lnZ,bel = LBP(model, maxIter=10, verbose=True)   # loopy BP\n",
    "    lnZ,bel = NMF(model, maxIter=10, verbose=True)  # Mean field"
   ]
  },
  {
   "cell_type": "markdown",
   "metadata": {},
   "source": [
    "### Ranking players by predicted skill"
   ]
  },
  {
   "cell_type": "code",
   "execution_count": 50,
   "metadata": {},
   "outputs": [
    {
     "name": "stdout",
     "output_type": "stream",
     "text": [
      "Mean skill estimates: \n",
      "[8.351554477967648, 8.999888460482307, 8.999708530365503, 8.952479949818766, 8.999448852377693, 8.99999999999998, 7.947619762247287, 8.999999999999908, 8.99364133661515, 8.999992811316297, 8.99996036265476, 8.999950016584148, 8.998579849437778, 8.999929850298104, 8.960741761535937, 7.322966818442847, 7.3032804338674975, 8.999999779822346, 8.999999999965015, 7.818996125705687, 8.354878789592602, 8.534934556539335, 8.984678982003096, 8.999585961651606, 8.806886214181455, 8.994408819504004, 8.99999998650227, 8.990170475348467, 8.99999999879821, 8.971415707907218, 8.608263954764244, 8.825780094747513, 8.969973215342268, 8.999999987521901, 8.884053423663781, 8.005324942023552, 8.99910141063294, 7.217797974371831, 7.005077577832006, 8.999671226286006, 8.997882427412545, 8.89089505102769, 7.699270175235727, 8.999999999933655, 7.307222719457794, 8.999494227156083, 8.083644973709871, 8.980077431628722, 6.782589076994198, 8.280966809853393, 8.981247223546266, 6.3922933591809565, 6.001741484963734, 7.964240593303581, 8.860473336725518, 8.973506784531795, 7.733945538852819, 8.890136567113942, 5.933959754946514, 7.940371734976624, 7.846260721110107, 8.98939156556564, 6.939037021645852, 8.930548252180547, 8.905821350030097, 8.999999983245308, 7.032506280093921, 7.991558025075198, 7.442337501636209, 8.007044334365714, 7.978763362773045, 7.936868956991874, 7.942315589697154, 8.462382153649116, 8.729386710831712, 7.999355784253766, 8.6017197107824, 8.924990790323639, 8.982099117252142, 7.273073837215792, 7.595232955526178, 7.998222665093221, 8.006804376477312, 6.07939398151066, 5.989710337054649, 8.999737942602454, 8.004793251507335, 7.297350962176144, 8.882060067158307, 8.974397200411596, 5.981015702735086, 7.011895379994015, 7.693183572970327, 7.008639668330298, 8.968344972374245, 8.10434690951688, 6.213772897556688, 8.435138143974127, 8.78108635875762, 7.882848532127099, 6.48105482521417, 8.005539797973688, 8.00556356557979, 6.22789022939238, 7.842114734797771, 4.627173094030127, 7.2035067557015795, 8.248542983997554, 7.999878151328245, 6.223907996654903, 7.951185043652899, 7.313124376567329, 6.467215510241357, 8.1758227850228, 7.751253020292358, 7.931953528903695, 6.047479891084416, 7.778372373908396, 7.061399772631952, 6.008103118949989, 6.1268425061048, 6.1111359455698695, 7.039842849485856, 6.889787257879288, 8.013039301334082, 6.971489038229859, 6.96460113030704, 4.969178584501308, 6.25187448078651, 5.052223783491879, 7.911220603288162, 8.016232365757801, 5.9672455820922545, 8.967934545075707, 6.308551495093565, 7.702415066985582, 7.895279969440707, 7.030676242072801, 7.973877708277367, 6.296107667555553, 6.801177722505007, 5.001503420861303, 6.832658969518243, 8.965813480403362, 6.640178544429365, 6.617688264354846, 7.999809672240265, 6.900865235966093, 7.000334068517772, 5.774050263106772, 8.001575133419552, 5.817353445988115, 8.999544573863963, 6.105188409866101, 6.478897362940127, 7.656850033652778, 7.875478404570252, 7.942735158607321, 6.100854082592867, 8.993589535309026, 5.6765373413480305, 8.13840823540218, 6.040140772895887, 4.720219144496424, 6.974056370552703, 6.131810001845227, 8.314083957475788, 5.450545545878319, 6.102002847945406, 6.100352634809072, 4.9878745671302775, 7.085930604680491, 8.987481026755754, 5.132992760746772, 6.850507990800421, 6.340305371339846, 6.937206357555488, 5.940883305095574, 7.453713115389931, 7.013662370884608, 7.055160890284308, 5.711733555312778, 7.035280211021171, 7.1949484269187804, 7.852668737914512, 7.177689693744105, 7.447974323648415, 6.956996571042444, 7.669612819649961, 6.732293780831465, 6.654006493963628, 4.901215906257032, 7.765630180732383, 5.964615594884291, 6.465012316151053, 8.173541490072946, 5.047242591036604, 7.158451887337335, 7.53378311023134, 5.908501781555349, 7.494109248417561, 6.026244588761819, 5.65364110756103, 7.005326804899346, 8.522589566857084, 7.142688049241579, 6.664326963525373, 7.267006475610778, 6.03093482018916, 6.404236389010329, 7.148227376181822, 5.893998697682474, 7.957669317373317, 6.582935245295955, 8.327501658507868, 5.215860359017436, 6.001995012556181, 8.184133478371573, 6.085470767544857, 7.284765062396773, 7.919739519095568, 6.76951561547712, 7.131065756699901, 7.157251149634553, 3.9448936502850063, 7.369778327057116, 7.139516675527067, 6.179044447838645, 7.635299082612343, 5.336908023865272, 6.307429450728633, 5.355658030652318, 5.919892433797845, 6.583556293938427, 6.638106886047709, 6.77763105440099, 6.0193373952258185, 5.153513805755738, 4.768658502035218, 7.0126242548791335, 7.06031952981514, 6.055758680987599, 8.98016496208751, 8.309577959254064, 5.740126665145974, 5.250900849234455, 5.9134423837539245, 5.393310188187829, 4.716016678072015, 5.926028696121723, 5.116271623171543, 5.987263500465066, 6.7651768940642025, 7.375147941134825, 6.979992923825016, 6.494212523499958, 5.113122473658279, 6.113643688483137, 5.3984159702793395, 5.974337777303878, 8.6984708152402, 7.043846982562707, 5.928609476168898, 5.994246285553108, 3.758898919999644, 7.2114940721924725, 6.22724560826036, 5.044103777291529, 6.007685379610498, 7.43514647011038, 7.708531964997204, 5.503465466495422, 8.519842852491557, 8.771408140355508, 7.180122927090164, 4.538404986561836, 4.477364983601784, 8.043928216288846, 6.883771812220373, 6.186515659186096, 6.399702678269799, 5.228941192417421, 5.119567700446861, 7.709923957025211, 8.070936438306786, 6.962415905410359, 7.897196735965344, 5.7388057352489374, 5.803385555748267, 6.684381524158429, 3.0073632382703863, 8.179068499048162, 5.118568370893693, 5.866252478914653, 8.19418161583593, 5.953769718414339, 6.335749193831096, 5.077157526762863, 7.076398658814901, 8.470325458206675, 4.306048704894624, 5.419609989203572, 7.988689238474271, 6.494031483560256, 7.15835523901221, 4.59862156912251, 3.5497948052227195, 8.99509599820682, 5.8938939208175976, 7.950948297911128, 4.641629380247073, 6.563468015990429, 3.904064826368383, 6.140427623717949, 4.019126759368884, 3.277525557260528, 5.540093942706317, 3.2809657485297326, 0.9586880430727727, 4.754670936890061, 5.029666511509439, 3.9645642583076897, 6.444964974374326, 5.070032021743444, 6.736725293218783, 6.386485259215896, 4.345363569950621, 3.9884448237056342, 4.811588476266564, 7.1856131580335205, 6.046934762003449, 3.062944830519856, 4.974783389336271, 6.802357060478721, 6.697831900556155, 5.5888994353794335, 6.910739627255246, 6.737554694548987, 8.513500889616056, 5.0147020818215955, 4.5095003074458635, 4.235738903804017, 7.152605256334111, 4.083443567186066, 5.193715752141406, 4.719340837311557, 4.914568976132762, 6.122363602768438, 4.100295038566134, 5.358276218954469, 5.084497969334005, 6.651063773039042, 4.030141458441405, 2.5942055841767657, 3.2984928730968073, 5.975652236141341, 7.105030859600664, 4.7478392542593895, 5.834960507193006, 5.678103867343615, 2.6311388547935874, 3.685886499368184, 2.839945174218977, 6.758106390933345, 4.0079210004480395, 5.230510410124394, 4.38198438648991, 5.393400660858694, 3.796650248228459, 3.622214607221749, 2.7587483527930847, 5.184697863304779, 5.17862724523739, 4.996067752587141, 4.45579494628963, 4.350366950612468, 3.0547309715501716, 4.901815095692044, 6.066420360709709, 5.933322422983402, 6.2060977913721045, 8.046704076755276, 4.905421713512944, 5.635430071413882, 5.01325779672453, 3.8323040600238096, 3.025706395108343, 5.665943333555051, 4.701869323918758, 5.27621633025959, 5.832694105729759, 4.841278520064537, 2.8648404329424992, 8.808833659348302, 6.165629618631594, 7.084937934146214, 5.776109263556867, 5.21437560867758, 3.9843954036674925, 5.558694495008909, 5.385497021924458, 4.81759470651199, 5.1182147601756425, 4.181833267774268, 3.788206206169847, 3.4445945614528277, 5.999828875618654, 5.808727791555395, 6.549054421917566, 5.00135625026442, 1.9592617547133002, 7.1414970221321985, 4.536781928902034, 3.064273318161198, 4.174195188278464, 4.716998985541128, 5.543561268827019, 3.1006288376247166, 3.3144936727589243, 5.080442089204087, 4.9702305699939995, 7.253180957573228, 2.9479312015148236, 6.253915593649277, 3.6505447463897625, 7.627361379912755, 4.073643495386413, 4.688287419868645, 4.679855458900476, 4.242283230244516, 5.05672915301352, 4.863423750250003, 4.017150605585154, 6.696455328412388, 4.027508669935723, 5.109266134883729, 3.8813283598687733, 6.0632405777125395, 6.092595695016089, 4.172038715508033, 7.0385766588709675, 3.9535049021760624, 4.290587905369634, 3.0230629628141363, 4.190041840566444, 7.768396125071626, 2.246558577601809, 5.993213368057361, 4.800483379925652, 4.230101394485463, 4.754426103358929, 5.727799616365711, 5.5514141389705625, 3.123029205692033, 4.256493187109096, 4.096682798191469, 5.034045339780974, 4.79581485500657, 3.5809589380467397, 6.656459225662276, 4.996081073789452, 4.115860817916831, 2.101427346297257, 4.8341687369331465, 5.657211304404532, 3.8708231551188605, 3.648737555764974, 4.736228148968444, 3.3128203621892407, 2.8449933987479574, 4.3196136978125566, 4.60393163799182, 1.7288765986148265, 2.786374264137525, 4.036959068467374, 5.976921476936123, 5.3101364305752465, 3.187250637032144, 4.249746214541323, 5.828645428127377, 1.8088558279067948, 5.860899222369936, 6.822564702133896, 6.7875075882015565, 5.432593709434271, 3.1351479914452645, 5.1730925259599525, 5.426298391997837, 3.963791778425511, 3.8540197996316925, 4.904244974044443, 4.522430863727672, 6.698611179776972, 2.512291451441083, 4.404619668324292, 5.252619095136229, 3.496107900686997, 3.1965179140631035, 4.016528938993445, 4.76579268289391, 3.6898440384818, 4.21916148323605, 5.461601312353233, 6.1917800252434745, 6.607622260529374, 3.8837161498574946, 3.916541875647013, 2.790392579397306, 7.447302857415198, 3.787132388025417, 4.084665702164137, 3.3749379235454384, 6.79493031713436, 4.031007170548619, 3.646281975226491, 3.6555603350768724, 4.397855331347348, 6.051156537217574, 4.9482330651468445, 4.228402863371881, 7.2819054305424045, 2.1815946483476605, 3.176945454087123, 6.188846323625748, 1.848586115410174, 5.22295777931838, 2.221946738387157, 5.599586482952257, 5.713533518853449, 3.0149705838055376, 4.449422046891659, 2.5487458584847498, 6.037621560391078, 5.833663006133602, 4.570009945417336, 0.8054608574998133, 4.0969673557690385, 6.242672725727931, 4.208614075492477, 7.1958533358184695, 2.893547054442922, 4.976872626206009, 4.677526327878867, 5.870118797390036, 6.575469452851265, 4.243447897184442, 3.015481871712005, 4.32979600763551, 4.144515932177856, 3.2137932281257084, 4.359641117079959, 6.578883027834326, 3.729278489277738, 4.022160612201241, 3.9602875477886905, 6.150891200430271, 6.89313663522831, 3.919240935136374, 2.6477281130676493, 7.4681038565830065, 4.6356129522695895, 5.041533439848159, 7.214733072976621, 1.4848542303128685, 4.411210051607132, 6.87555714380461, 5.281711081400061, 4.231367935902056, 1.595569862985077, 5.364691602432095, 4.101366406745536, 6.143261288497045, 3.003093477061582, 3.7535469202861282, 4.132606760612583, 3.917538631438498, 4.080340287935049, 5.95301696786294, 3.17406799286355, 4.884937016395092, 1.9583636607573291, 0.8478633897970205, 0.8854650615732159, 1.5500722165889855, 3.583454779882236, 4.132692601902655, 5.936231583091944, 7.331429344245974, 5.896060061118654, 4.166369560030524, 5.148320473076177, 3.736595161688834, 5.088294675211417, 5.10154720413903, 2.8641281385676267, 3.8515479935189143, 5.14281781144929, 6.268010435382225, 4.435030181022505, 4.224738220295563, 1.484487642909212, 7.97259055553733, 6.886875391942457, 2.492110999393591, 1.662092854345179, 2.653834795269284, 6.543868485552924, 5.149144330472551, 5.023586166446241, 2.8642797275369407, 3.9151807830862513, 4.277368067322714, 4.2847852195113125, 3.7704819293961473, 3.248265449939547, 5.813971442495823, 7.439114741192837, 3.5046724742933657, 4.297175515422976, 2.6128945633359537, 3.925786378197393, 3.058645234046466, 3.2506741000886836, 4.449341014123802, 1.2214342652484134, 1.2832963840329379, 6.622456286762002, 2.6007048432062256, 7.7776825048052265, 4.449225995953378, 4.719561491443197, 2.51700931037375, 3.7447294011107672, 2.383414068063627, 6.103181741471007, 5.652203077281897, 3.328229774156715, 5.138267136290098, 4.333768252415252, 3.320167034513444, 3.266362233567194, 1.56061299242212, 0.6074666750131295, 5.740385442579893, 4.537807398344691, 3.644092733521091e-08, 4.155395198422508, 4.251782404427695, 5.825935789504647, 6.262624095141963, 5.176896536037404, 3.9237573964941777, 2.9120859920909643, 3.8455181047499445, 6.412920527558357, 3.5102103632908985, 6.4613465545680775, 4.693142603656327, 1.7398657379531919, 3.493987911877423, 4.570097655587461, 4.608062822027851, 5.9367614086966644e-05, 1.772988258034274, 5.079623047899091, 6.056583359710344, 3.2995809867517547, 2.80514957848608, 2.7158995003155058, 3.4560133095610497, 0.07448575044973735, 6.912884867534564, 4.161531098029187, 2.716735690350666, 3.0567831231537568, 4.81831193751219, 3.322346281457102, 2.066056390463626, 3.324910859041651, 4.029145438368142, 1.8849067505771493, 4.056782331034391, 4.029692293026172, 2.8379040746086557, 1.8170327175717418, 4.26941809586963, 2.970852936153827, 0.4087928421972577, 4.144672332405778, 1.9482451300233357, 4.915718245833875, 7.9063648681994065, 4.2294936191673616, 4.503313776779796, 0.5328137953925577, 4.061974080912211, 6.6309597890463285, 4.595926485839263, 4.383511089891597, 1.6539300588505408, 3.097331991936027, 5.597157541606088, 2.9931229559754495, 1.1214453406005425, 4.100107604279394, 0.04128702656259136, 5.924350707580538, 4.341481077154453, 3.007804452715229, 3.8181364105944784, 2.886950564650298, 4.825417777668852, 4.360718309723338, 0.01010362300179245, 1.6214158507709329, 5.8345425176414665, 6.914202269475869, 4.414363514899966, 4.342858121888008, 4.817872452560121, 5.2324106546405975, 4.949766703508631, 3.0526151830236326, 5.035681154875477, 4.949388295816316, 3.0134774532181554, 5.182420031378745, 4.157494859471905, 5.454884844189554, 1.680318203231981, 2.0384132756602935, 1.671897839830922, 3.439260316665708, 3.1256124196560275, 1.798302123134827, 3.2748748385160784, 2.834438946323965, 0.41581322842342827, 4.252207854702811, 4.075748317127839, 4.751287194243754, 5.496920980153411, 5.168451888179592, 0.08783903335753308, 3.0536478012382116, 0.9680576037642448, 0.7116080447107822, 3.178005530702134, 4.1977365683570795, 1.806894600374283, 4.1751022180082975, 4.375308558086318, 2.9313008608540057, 1.604647284073521, 4.7200705396523714, 3.0444030239611966, 2.314139897564271, 2.9592864530147542, 2.3243344920388, 2.9226984248447057, 4.042899035170475, 3.855483907687953, 4.532667142403672, 0.0721352250959894, 5.028409198184255, 1.8114213230009188, 3.007539013053972, 3.78956698582383, 3.4124891917439175, 4.579635066141289, 5.049811797494796, 0.9216442805561721, 1.0739379585916495, 2.9249336415155045, 2.3798215410012236, 0.1406723711111607, 5.030090243433193, 1.172064247963982, 5.7003303651025945, 2.9908457096345087, 0.8659572003385403, 1.8691825807115547, 0.6538122145065401, 4.481021524320356, 4.099680920391337, 4.308913100259342, 5.7781704120494535, 5.962851985034235, 2.9559770337576343, 2.204132114018943, 1.7221449769150312, 1.8473122554452757, 4.396610564764177, 5.164030659686758, 0.8201224032762039, 2.8142723114752757, 3.521634882360579, 2.3991425786499185, 3.8187101818980946, 4.042057490547727, 4.9461531868274154e-08, 5.921035929576203, 1.377674232079978, 2.5290073784779135, 3.0675542469842743, 3.4435448638317023, 2.1408596154203785, 4.920224075536686, 4.04184144782671, 3.744312655467932, 3.575309318611434, 1.027099142073907, 4.303936624542097, 2.5675125703334225, 3.3339225541955932, 2.2286950842449755, 4.885778881944273, 5.203116195341684, 1.0913873531936313, 4.214571936289655e-08, 5.631498262457295, 4.591123080722632, 3.0787298086520387, 2.025747325083435, 4.774846487803497, 1.4164748929994915, 4.044212951998528, 3.1892760579601918, 1.1389871904419901, 4.07745904699854, 3.068870515777217, 2.487302006609206, 4.156350211507868, 3.0238670287303315, 1.6495475916473712, 0.9293123916158362, 2.339197107304863, 4.022263395951753, 4.255368741176442, 5.277158044351467, 5.014943918657992, 1.9978746094806723, 1.6397822110132503, 4.277841503790347, 1.149623031210809, 0.35908891595384396, 4.572120597345311, 0.05366590388405647, 1.6938545735957573, 2.0606085940578187, 2.549004958131687, 0.2990710505972835, 1.776037731601287, 5.604562904232244, 1.3226634642420692, 1.768433807661212, 0.6957766925409159, 8.10303648648603, 0.03465305260343782, 5.316552591377839, 3.7553093053493445, 0.28046728206482285, 3.6351003657730745, 3.959301870919919, 1.5973669162766326, 2.073586218280934, 3.4292717995873128, 5.711643659712939, 3.58685289993148, 2.3190184586443903, 0.3804249040912117, 3.2882996229683803, 1.344732198437884, 6.826640325768322e-06, 0.7018361320448956, 2.631939753306823, 1.242928123425616, 2.0107421752931964, 0.00789080132177514, 1.559774193864669, 3.3277830242164725, 2.8417917596256186, 2.4913683796070014, 1.0730549745769453, 5.059526418293007, 1.7449616739348397, 3.1787586262507217, 3.5214384687731055, 0.04983302226643892, 3.0369791589012767, 0.5810586558333396, 2.073436061584939, 3.649572003746145, 3.1003981745681153, 4.901740215500254, 2.7080978568486844, 3.4792420705330684, 2.112473408858163, 0.001695950726838404, 3.4093201565246254, 3.555094414896913, 2.7481496745744796, 0.010625797800992189, 3.122055904394708, 0.21149711477932373, 0.3929672878999662, 3.9345655994605098, 0.9482152253736622, 4.0076847611960345, 0.06574206495469902, 4.022142289373708, 4.200122207475478, 0.6524175944972331, 4.805516615918116, 0.08540805763238524, 3.7508524042955353, 2.128621405308356, 0.25731241814457817, 5.022915652204453, 1.5330747312297104, 3.5344930064421805, 0.34269716876456396, 0.03458939585175276, 2.378313098224076, 2.4063778689414654, 1.865322102808216, 3.993642080923204, 2.690182147165869, 1.632062494228607, 0.24662684527994136, 2.8306873675298947, 2.9221691613195038, 3.324544625435136, 3.456985654952628, 2.016023656040474, 2.402974658277415, 4.197999277839944, 1.9653000374796603, 2.8475575252431895, 0.7639050992515563, 2.893661176698954, 0.4529120592651452, 4.804136803381351, 2.4218351133303626, 4.123778747985086, 3.662879699559415, 0.04928755211005011, 3.839467022161588, 4.0290327632933876, 1.5389625556354631, 4.613177589300937, 4.1894650063648236, 1.847284715557545, 1.6162291227660912, 4.066119193528527, 5.7293501208698325, 1.3869955491374273, 3.6187687990495236, 3.004804205733997, 6.126153185393243, 3.124106439813914, 2.2276910984765506, 0.636076336889127, 2.9933264333552545, 0.8036645253424929, 3.239580048877654, 2.0408288440385713, 0.045046698352316124, 1.9094186627862073, 0.0009797939698524664, 1.6642383709548016, 0.21950699129641718, 1.3050015252684404, 0.04461131816172289, 0.013562832299886175, 1.8895054295904912, 0.21694866771703075, 0.007217937455833218, 4.835056200609682, 5.142212331302777, 0.06339372795011618, 1.918420149150445, 0.015859303601673987, 2.0584816005217306, 2.2684444538126542, 0.18004775411393256, 5.114829715045316, 0.3504189586739018, 0.32773624881786856, 3.348363023051782, 2.8517514052856647, 4.055413910304332, 1.2706119623761107, 0.8139898155832621, 4.6096749674377095, 4.635976431716644, 2.7736212473641597, 5.5621719374132885, 0.5652934487441876]\n"
     ]
    }
   ],
   "source": [
    "print(\"Mean skill estimates: \")\n",
    "print([ bel[i].table.dot(np.arange(nlevels)) for i in range(nplayers)] )"
   ]
  },
  {
   "cell_type": "markdown",
   "metadata": {},
   "source": [
    "### Predicting match outcomes using our algorithm"
   ]
  },
  {
   "cell_type": "code",
   "execution_count": 51,
   "metadata": {},
   "outputs": [
    {
     "name": "stdout",
     "output_type": "stream",
     "text": [
      "It took  253.39318108558655  seconds to complete.\n"
     ]
    }
   ],
   "source": [
    "outcomes = []\n",
    "with open('valid.csv', newline='') as csv_file2:\n",
    "    csv_reader2 = csv.reader(csv_file2, delimiter=',')\n",
    "    for row in csv_reader2:\n",
    "        player1 = get_id(str(row[1]))\n",
    "        player2 = get_id(str(row[4]))\n",
    "        if player2 is None:\n",
    "            global players\n",
    "            player_dict[players] = str(row[4])\n",
    "            player2 = players\n",
    "            players += 1\n",
    "        i,j = player1, player2\n",
    "        if i<j:\n",
    "            win_percent = (bel[i]*bel[j]*gm.Factor([X[i],X[j]],Pwin)).table.sum()\n",
    "            if win_percent < 0.5:\n",
    "                outcomes.append(-1)\n",
    "            else:\n",
    "                outcomes.append(1)\n",
    "        else:\n",
    "            win_percent = (bel[i]*bel[j]*gm.Factor([X[i],X[j]],1-Pwin)).table.sum()\n",
    "            if win_percent < 0.5:\n",
    "                outcomes.append(-1)\n",
    "            else:\n",
    "                outcomes.append(1)\n",
    "#print(outcomes)\n",
    "end = time.time()\n",
    "print(\"It took \", end - start, \" seconds to complete.\")"
   ]
  },
  {
   "cell_type": "code",
   "execution_count": 52,
   "metadata": {},
   "outputs": [],
   "source": [
    "correct = []\n",
    "with open('valid.csv', newline='') as csv_file2:\n",
    "    csv_reader2 = csv.reader(csv_file2, delimiter=',')\n",
    "    for row in csv_reader2:\n",
    "        if row[2] == \"[loser]\":\n",
    "            correct.append(-1)\n",
    "        else:\n",
    "            correct.append(1)"
   ]
  },
  {
   "cell_type": "code",
   "execution_count": 53,
   "metadata": {},
   "outputs": [
    {
     "name": "stdout",
     "output_type": "stream",
     "text": [
      "63442\n"
     ]
    }
   ],
   "source": [
    "right = 0\n",
    "index = 0\n",
    "for i in outcomes:\n",
    "    if outcomes[index] == correct[index]:\n",
    "        right+=1\n",
    "    index+=1\n",
    "print(right)\n",
    "dec = int(right)/94007\n",
    "percentage = \"{:.2%}\".format(dec)"
   ]
  },
  {
   "cell_type": "code",
   "execution_count": 54,
   "metadata": {},
   "outputs": [
    {
     "name": "stdout",
     "output_type": "stream",
     "text": [
      "Our algorithm estimated the correct outcome  67.49%  of the time.\n"
     ]
    }
   ],
   "source": [
    "print(\"Our algorithm estimated the correct outcome \", percentage, \" of the time.\")"
   ]
  },
  {
   "cell_type": "markdown",
   "metadata": {},
   "source": [
    "### Predicting match outcomes using simple method"
   ]
  },
  {
   "cell_type": "code",
   "execution_count": 82,
   "metadata": {},
   "outputs": [],
   "source": [
    "outcomes = []\n",
    "with open('valid.csv', newline='') as csv_file2:\n",
    "    csv_reader2 = csv.reader(csv_file2, delimiter=',')\n",
    "    for row in csv_reader2:\n",
    "        player1 = get_id(str(row[1]))\n",
    "        player2 = get_id(str(row[4]))\n",
    "        if player2 is None:\n",
    "            global players\n",
    "            player_dict[players] = str(row[4])\n",
    "            player2 = players\n",
    "            players += 1\n",
    "        i = playerInfo.get(player1)[2]\n",
    "        j = 0\n",
    "        if playerInfo.get(player2) is not None:\n",
    "            j = playerInfo.get(player2)[2]\n",
    "        if i > j:\n",
    "            outcomes.append(1)\n",
    "        else:\n",
    "            outcomes.append(-1)"
   ]
  },
  {
   "cell_type": "code",
   "execution_count": 83,
   "metadata": {},
   "outputs": [
    {
     "name": "stdout",
     "output_type": "stream",
     "text": [
      "61868\n"
     ]
    }
   ],
   "source": [
    "right = 0\n",
    "index = 0\n",
    "for i in outcomes:\n",
    "    if outcomes[index] == correct[index]:\n",
    "        right+=1\n",
    "    index+=1\n",
    "print(right)\n",
    "dec = int(right)/94007\n",
    "percentage = \"{:.2%}\".format(dec)"
   ]
  },
  {
   "cell_type": "code",
   "execution_count": 84,
   "metadata": {},
   "outputs": [
    {
     "name": "stdout",
     "output_type": "stream",
     "text": [
      "The simple approach estimated the correct outcome  65.81%  of the time.\n"
     ]
    }
   ],
   "source": [
    "print(\"The simple approach estimated the correct outcome \", percentage, \" of the time.\")"
   ]
  },
  {
   "cell_type": "code",
   "execution_count": null,
   "metadata": {},
   "outputs": [],
   "source": []
  }
 ],
 "metadata": {
  "kernelspec": {
   "display_name": "Python 3",
   "language": "python",
   "name": "python3"
  },
  "language_info": {
   "codemirror_mode": {
    "name": "ipython",
    "version": 3
   },
   "file_extension": ".py",
   "mimetype": "text/x-python",
   "name": "python",
   "nbconvert_exporter": "python",
   "pygments_lexer": "ipython3",
   "version": "3.8.3"
  }
 },
 "nbformat": 4,
 "nbformat_minor": 4
}
